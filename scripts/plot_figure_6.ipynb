{
 "cells": [
  {
   "cell_type": "code",
   "execution_count": 1,
   "metadata": {
    "scrolled": true
   },
   "outputs": [],
   "source": [
    "import seaborn as sns\n",
    "import faceted as faceted\n",
    "import xarray as xr\n",
    "import numpy as np\n",
    "import matplotlib as mpl\n",
    "import glob as glob\n",
    "import seaborn as sns\n",
    "import matplotlib.pyplot as plt\n",
    "\n",
    "sns.set_palette('hls', 4)\n",
    "sns.set_style('ticks')\n",
    "\n",
    "plt.rcParams.update({\n",
    "    \"text.usetex\": True,\n",
    "    \"font.size\": 12,\n",
    "    \"text.latex.preamble\": \"\\n\".join([r'\\usepackage{amsmath}'])\n",
    "})      "
   ]
  },
  {
   "cell_type": "code",
   "execution_count": 2,
   "metadata": {},
   "outputs": [],
   "source": [
    "wet_out = \"../data/LES/reisner_case/moist_soot_xsection.nc\"\n",
    "dry_out = \"../data/LES/reisner_case/dry_soot_xsection.nc\""
   ]
  },
  {
   "cell_type": "code",
   "execution_count": 3,
   "metadata": {},
   "outputs": [],
   "source": [
    "ds_wet = xr.open_dataset(wet_out)\n",
    "ds_dry = xr.open_dataset(dry_out) "
   ]
  },
  {
   "cell_type": "code",
   "execution_count": 4,
   "metadata": {},
   "outputs": [],
   "source": [
    "ds_wet = ds_wet.sel(z=slice(None, 15e3))\n",
    "ds_dry = ds_dry.sel(z=slice(None, 15e3))"
   ]
  },
  {
   "cell_type": "code",
   "execution_count": 32,
   "metadata": {},
   "outputs": [
    {
     "name": "stderr",
     "output_type": "stream",
     "text": [
      "/tmp/ipykernel_159135/558305742.py:36: UserWarning: FixedFormatter should only be used together with FixedLocator\n",
      "  axis[0].set_xticklabels([0,0,10,20,30,40])\n",
      "/tmp/ipykernel_159135/558305742.py:37: UserWarning: FixedFormatter should only be used together with FixedLocator\n",
      "  axis[1].set_xticklabels([0,0,10,20,30,40])\n"
     ]
    },
    {
     "data": {
      "image/png": "[encoded data removed]",
      "text/plain": [
       "<Figure size 576x132 with 7 Axes>"
      ]
     },
     "metadata": {},
     "output_type": "display_data"
    }
   ],
   "source": [
    "aspect = (ds_wet.z.max()/ds_wet.x.max()).item()\n",
    "\n",
    "fig, axis, caxis = faceted.faceted(1, 2, aspect=aspect, cbar_mode='edge',\n",
    "                                   left_pad=.6, right_pad=.7, bottom_pad=.6,\n",
    "                                   internal_pad=.1, cbar_pad=.1, \n",
    "                                   width=8.0, sharey=True, sharex=False)\n",
    "\n",
    "abs(ds_wet.soot).isel(time=-1).plot(ax=axis[1], cmap='binary', vmin=0, vmax=.06, add_colorbar=False)\n",
    "\n",
    "fmt = lambda x, pos: '{:.2f}'.format(x).lstrip('0')\n",
    "# cbar = plt.colorbar(format=FuncFormatter(fmt))\n",
    "\n",
    "abs(ds_dry.soot).isel(time=-1).plot(ax=axis[0], cmap='binary', cbar_ax=caxis[0], vmin=0, \n",
    "                                    vmax=.06, cbar_kwargs={'label': \"Soot [unitless]\", \"format\": fmt,\n",
    "                                                         \"ticks\": [.02, .04, .06]})                                                                                            \n",
    "axis[0].set_xlabel(\"$x$ [km]\")\n",
    "axis[1].set_xlabel(\"$x$ [km]\")\n",
    "\n",
    "axis[0].set_ylabel(\"$z$ [km]\")\n",
    "axis[1].set_ylabel(\"$z$ [km]\")\n",
    "\n",
    "axis[0].set_title(\" \")\n",
    "axis[1].set_title(\" \")\n",
    "\n",
    "axis[1].set_ylabel(\" \")\n",
    "\n",
    "axis[0].set_yticks([0,5e3, 10e3, 15e3])\n",
    "\n",
    "axis[0].text(23925., 13.5e3, \"tropopause\", horizontalalignment='center',\n",
    "             verticalalignment='center', color='red')\n",
    "axis[0].axhline(y=12e3, linestyle='dashed', color='red')\n",
    "axis[1].axhline(y=12e3, linestyle='dashed', color='red')\n",
    "\n",
    "axis[0].set_yticklabels([0,5, 10, 15])\n",
    "\n",
    "axis[0].set_xticklabels([0,0,10,20,30,40])\n",
    "axis[1].set_xticklabels([0,0,10,20,30,40])\n",
    "\n",
    "\n",
    "axis[0].set_title(\"Dry\", color='black', fontsize=12)\n",
    "axis[1].set_title(\"Moist\", color='black', fontsize=12)"
   ]
  }
 ],
 "metadata": {
  "kernelspec": {
   "display_name": "Python 3 (ipykernel)",
   "language": "python",
   "name": "python3"
  },
  "language_info": {
   "codemirror_mode": {
    "name": "ipython",
    "version": 3
   },
   "file_extension": ".py",
   "mimetype": "text/x-python",
   "name": "python",
   "nbconvert_exporter": "python",
   "pygments_lexer": "ipython3",
   "version": "3.7.12"
  }
 },
 "nbformat": 4,
 "nbformat_minor": 4
}
