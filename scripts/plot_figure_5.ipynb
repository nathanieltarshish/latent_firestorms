{
 "cells": [
  {
   "cell_type": "code",
   "execution_count": 1,
   "metadata": {},
   "outputs": [],
   "source": [
    "import matplotlib.pyplot as plt\n",
    "import seaborn as sns\n",
    "import faceted as faceted\n",
    "import xarray as xr\n",
    "import numpy as np\n",
    "import scipy\n",
    "\n",
    "sns.set_palette('hls', 4)\n",
    "sns.set_style('ticks')\n",
    "\n",
    "plt.rcParams.update({\n",
    "    \"text.usetex\": True,\n",
    "    \"font.size\": 10,\n",
    "    \"text.latex.preamble\": \"\\n\".join([r'\\usepackage{amsmath}'])\n",
    "}) "
   ]
  },
  {
   "cell_type": "code",
   "execution_count": 3,
   "metadata": {},
   "outputs": [],
   "source": [
    "z = np.linspace(0,20e3, 2000)\n",
    "\n",
    "#data from plot digitiztion of Figure 3 in Reisner et al. 2018\n",
    "# 338.25431034482756, 11.977011494252872\n",
    "# 397.5215517241379, 16.022988505747126\n",
    "\n",
    "H = 12e3 #m\n",
    "gamma_1 = (338.25 - 300)/H #K/m \n",
    "gamma_2 = (397.52 - 338.25)/4e3 #K/m \n",
    "theta_0 = 300 #K\n",
    "g = 9.81 #m/s^2\n",
    "R =  290.0 # Gas constant for dry air, J/kg/K\n",
    "cp = 1000 # J/K/kg\n",
    "ps = 1e5 #Pa surface"
   ]
  },
  {
   "cell_type": "code",
   "execution_count": 4,
   "metadata": {},
   "outputs": [],
   "source": [
    "def theta(z):\n",
    "    if z <= H:\n",
    "        theta = theta_0 + gamma_1*z\n",
    "    else:\n",
    "        theta = theta_0 + gamma_1*H + gamma_2*(z-H)\n",
    "    return theta\n",
    "\n",
    "theta = np.vectorize(theta)\n",
    "\n",
    "def p(z):\n",
    "    f = 1/gamma_1*(np.log((theta_0 + gamma_1*z)/theta_0)) + np.heaviside(z-H, 1)*(\n",
    "    (1/gamma_2)*np.log((theta_0 + gamma_1*H + gamma_2*(z - H))/(theta_0 + gamma_1*H)))\n",
    "\n",
    "    return ps*(1-g/cp*f)**(cp/R)\n",
    "\n",
    "def T(z):\n",
    "    return theta(z)/(ps/p(z))**(R/cp)"
   ]
  },
  {
   "cell_type": "code",
   "execution_count": 12,
   "metadata": {},
   "outputs": [
    {
     "data": {
      "image/png": "[encoded data removed]",
      "text/plain": [
       "<Figure size 504x188.16 with 9 Axes>"
      ]
     },
     "metadata": {},
     "output_type": "display_data"
    }
   ],
   "source": [
    "fig, axis = faceted.faceted(1,3, aspect=1.0, width=7.0, \n",
    "                            sharex=False, sharey=True,\n",
    "                            left_pad=.5, bottom_pad=.5)\n",
    "\n",
    "axis[0].plot(p(z)/100, z/1000, color='black')\n",
    "axis[1].plot(T(z), z/1000, color='black')\n",
    "axis[2].plot(theta(z), z/1000, color='black')\n",
    "\n",
    "axis[0].set_xscale(\"log\")\n",
    "axis[0].set_xlabel(\"$p \\\\text{ [mb]}$\")\n",
    "axis[1].set_xlabel(\"$T \\\\text{ [K] }$\")\n",
    "axis[2].set_xlabel(\"$\\\\theta \\\\text{ [K]}$\")\n",
    "axis[0].set_ylabel(\"$z \\\\text{ [km]}$\")\n",
    "\n",
    "axis[0].set_xticks([1, 1e1, 1e2, 1e3, 1e4])\n",
    "axis[1].set_xticks([100, 150, 200, 250, 300])\n",
    "axis[2].set_xticks([300, 350, 400, 450])\n",
    "\n",
    "axis[0].set_ylim([0,20])"
   ]
  }
 ],
 "metadata": {
  "kernelspec": {
   "display_name": "Python 3 (ipykernel)",
   "language": "python",
   "name": "python3"
  },
  "language_info": {
   "codemirror_mode": {
    "name": "ipython",
    "version": 3
   },
   "file_extension": ".py",
   "mimetype": "text/x-python",
   "name": "python",
   "nbconvert_exporter": "python",
   "pygments_lexer": "ipython3",
   "version": "3.7.12"
  }
 },
 "nbformat": 4,
 "nbformat_minor": 4
}
