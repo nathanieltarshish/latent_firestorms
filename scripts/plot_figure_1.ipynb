{
 "cells": [
  {
   "cell_type": "code",
   "execution_count": 4,
   "metadata": {},
   "outputs": [],
   "source": [
    "import matplotlib.pyplot as plt\n",
    "import seaborn as sns\n",
    "import faceted as faceted\n",
    "import xarray as xr\n",
    "import numpy as np\n",
    "import scipy\n",
    "\n",
    "sns.set(font_scale=1.2)\n",
    "sns.set_palette('hls', 4)\n",
    "sns.set_style('ticks')\n",
    "\n",
    "plt.rcParams.update({\n",
    "    \"text.usetex\": True,\n",
    "    \"font.size\": 10,\n",
    "    \"text.latex.preamble\": \"\\n\".join([r'\\usepackage{amsmath}'])\n",
    "})         "
   ]
  },
  {
   "cell_type": "code",
   "execution_count": 5,
   "metadata": {},
   "outputs": [],
   "source": [
    "ds = xr.open_dataset(\"../data/DNS/plume_centerline.nc\")\n",
    "epsilon = ds.epsilon\n",
    "l_hat = 1/epsilon\n",
    "l_hat_function = scipy.interpolate.interp1d(l_hat.z, l_hat.values)\n",
    "\n",
    "def To_analytical(l):\n",
    "    Gamma = 6/1000\n",
    "    g = 9.8\n",
    "    cp = 1000\n",
    "    z_t = 15e3 \n",
    "    z0 = 1e3 \n",
    "    return (np.exp((z_t-z0)/l) - 1)*(g/cp - Gamma)*(l)\n",
    "\n",
    "def MTT(z):\n",
    "    return 31.3*(z+1.1)**(-5/3)\n",
    "\n",
    "a,b,c,d = [ -2.06190316, -14.70771946,   0.01750799,   0.56364314]\n",
    "\n",
    "def b_empirical(z):\n",
    "    return MTT(z) + (a + b*(1 - np.exp(-z/c)))*np.exp(-z/d)\n",
    "\n",
    "def db_dz_empirical(z):\n",
    "    return (-(5/3)*31.3*(z+1.1)**(-8/3) \n",
    "            -(1/d)*(a + b*(1 - np.exp(-z/c)))*np.exp(-z/d)\n",
    "            + (b/c)*np.exp(-z/c)*np.exp(-z/d))\n",
    "\n",
    "def l_empirical(z,R):\n",
    "        zhat = z/R\n",
    "        return -R*b_empirical(zhat)/db_dz_empirical(zhat)\n"
   ]
  },
  {
   "cell_type": "code",
   "execution_count": 6,
   "metadata": {},
   "outputs": [],
   "source": [
    "Te0 = 290\n",
    "Gamma = 6/1000\n",
    "g = 9.81\n",
    "cp = 1000\n",
    "\n",
    "def s_e(z): \n",
    "    return g*z + cp*(Te0 - Gamma*z) \n",
    "\n",
    "def ds_dz(z,s,R):\n",
    "    return -(s - s_e(z))/l_empirical(z,R)\n",
    "\n",
    "def event(z,s,R): \n",
    "    return s[0] - s_e(z)\n",
    "event.terminal = True\n",
    "\n",
    "def LNB_vs_15km(Tanom0, R):\n",
    "    y0 = [s_e(1e3) + cp*Tanom0]\n",
    "    z_range=[1e3, 20e3]\n",
    "    sol = scipy.integrate.solve_ivp(ds_dz, z_range, y0, \n",
    "                                    args=([R]), atol=1e-6,\n",
    "                                    rtol=1e-6,\n",
    "                                    events=event)\n",
    "    s = sol.y\n",
    "    zs = sol.t\n",
    "    \n",
    "    return max(zs)-15e3\n",
    "\n",
    "def To_numerical(R):    \n",
    "    return scipy.optimize.root_scalar(LNB_vs_15km, x0=100,\n",
    "                                      bracket=[50, 2e3],\n",
    "                                      method='brentq',\n",
    "                                      xtol=1e-6, rtol=1e-6,\n",
    "                                      args=(R)).root\n",
    "\n",
    "To_numerical = np.vectorize(To_numerical)\n",
    "\n",
    "ls = np.linspace(1e3, 100e3, 200)\n",
    "\n",
    "Tos_analytical = To_analytical(ls)\n",
    "Rs = ls/5\n",
    "Tos_numerical = To_numerical(Rs)"
   ]
  },
  {
   "cell_type": "code",
   "execution_count": 7,
   "metadata": {},
   "outputs": [
    {
     "data": {
      "image/png": "[encoded data removed]",
      "text/plain": [
       "<Figure size 360x360 with 3 Axes>"
      ]
     },
     "metadata": {},
     "output_type": "display_data"
    }
   ],
   "source": [
    "fig, axis = faceted.faceted(1,1, aspect=1.0, width=5.0, left_pad=.7, bottom_pad=.7)\n",
    "\n",
    "axis[0].plot(Rs/1e3, To_analytical(5*Rs), color='black', \n",
    "             label='analytic')\n",
    "\n",
    "axis[0].plot(Rs/1e3, Tos_numerical, color='black', linestyle='dashed',\n",
    "             label='numerical')\n",
    "\n",
    "axis[0].set_ylim([0,300])\n",
    "axis[0].set_xlim([0,10])\n",
    "\n",
    "plt.xticks(fontsize=12)\n",
    "plt.yticks(fontsize=12)\n",
    "\n",
    "axis[0].legend(frameon=False)\n",
    "axis[0].set_ylabel(\"$T_0^{*} \\\\text{ [K]}$\", fontsize=12)\n",
    "axis[0].set_xlabel(\"$R \\\\text{ [km]}$\", fontsize=12)"
   ]
  },
  {
   "cell_type": "code",
   "execution_count": null,
   "metadata": {},
   "outputs": [],
   "source": []
  }
 ],
 "metadata": {
  "kernelspec": {
   "display_name": "Python 3 (ipykernel)",
   "language": "python",
   "name": "python3"
  },
  "language_info": {
   "codemirror_mode": {
    "name": "ipython",
    "version": 3
   },
   "file_extension": ".py",
   "mimetype": "text/x-python",
   "name": "python",
   "nbconvert_exporter": "python",
   "pygments_lexer": "ipython3",
   "version": "3.7.12"
  }
 },
 "nbformat": 4,
 "nbformat_minor": 4
}
