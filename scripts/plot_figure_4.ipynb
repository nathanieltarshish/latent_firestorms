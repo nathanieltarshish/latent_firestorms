{
 "cells": [
  {
   "cell_type": "code",
   "execution_count": 2,
   "metadata": {},
   "outputs": [],
   "source": [
    "import matplotlib.pyplot as plt\n",
    "import seaborn as sns\n",
    "import faceted as faceted\n",
    "import xarray as xr\n",
    "import numpy as np\n",
    "import glob\n",
    "import scipy\n",
    "from scipy import integrate\n",
    "import dask.bag as db\n",
    "from dask.distributed import Client, progress\n",
    "\n",
    "sns.set(font_scale=1.2)\n",
    "sns.set_palette('hls', 4)\n",
    "sns.set_style('ticks')\n",
    "\n",
    "plt.rcParams.update({\n",
    "    \"text.usetex\": True,\n",
    "    \"font.size\": 10,\n",
    "    \"text.latex.preamble\": \"\\n\".join([r'\\usepackage{amsmath}'])\n",
    "}) "
   ]
  },
  {
   "cell_type": "code",
   "execution_count": 3,
   "metadata": {},
   "outputs": [],
   "source": [
    "def center_To(d):\n",
    "    N = int(len(d.x)/2)\n",
    "    dx = slice(N-1, N+1)\n",
    "    return d.isel(x=dx, y=dx).mean().values - 290"
   ]
  },
  {
   "cell_type": "code",
   "execution_count": 4,
   "metadata": {},
   "outputs": [],
   "source": [
    "exps = glob.glob(\"../data/LES/R_suite/To_R_1.0_km_N_*\")\n",
    "R_1km_branch = {}\n",
    "for exp in exps:\n",
    "    N = exp.split('/')[4][14:][:-3]\n",
    "    ds = xr.open_dataset(exp, decode_cf=True, decode_times=True)\n",
    "    R_1km_branch[N] = ds     "
   ]
  },
  {
   "cell_type": "code",
   "execution_count": 5,
   "metadata": {},
   "outputs": [],
   "source": [
    "exps = glob.glob(\"../data/LES/R_suite/To_R_7.0_km_N_*\")\n",
    "R_7km_branch = {}\n",
    "for exp in exps:\n",
    "    N = exp.split('/')[4][14:][:-3]\n",
    "    ds = xr.open_dataset(exp, decode_cf=True, decode_times=True)\n",
    "    R_7km_branch[N] = ds     "
   ]
  },
  {
   "cell_type": "code",
   "execution_count": 6,
   "metadata": {},
   "outputs": [],
   "source": [
    "exps = glob.glob(\"../data/LES/R_suite/To_R_*_km.nc\")\n",
    "R_suite = {}\n",
    "for exp in exps:\n",
    "    R = exp.split('/')[4][5:][:-6]\n",
    "    ds = xr.open_dataset(exp, decode_cf=True, decode_times=True)\n",
    "    R_suite[R] = ds"
   ]
  },
  {
   "cell_type": "code",
   "execution_count": 7,
   "metadata": {},
   "outputs": [],
   "source": [
    "exps = glob.glob(\"../data/LES/H_suite/To_H_*.nc\")\n",
    "H_suite = {}\n",
    "for exp in exps:\n",
    "    H = exp.split('/')[4][5:][:-3]\n",
    "    ds = xr.open_dataset(exp, decode_cf=True, decode_times=True)\n",
    "    H_suite[H] = ds"
   ]
  },
  {
   "cell_type": "code",
   "execution_count": 8,
   "metadata": {},
   "outputs": [],
   "source": [
    "def MTT(z):\n",
    "    return 31.3*(z+1.1)**(-5/3)\n",
    "\n",
    "a,b,c,d = [ -2.06190316, -14.70771946,   0.01750799,   0.56364314]\n",
    "\n",
    "def b_empirical(z):\n",
    "    return MTT(z) + (a + b*(1 - np.exp(-z/c)))*np.exp(-z/d)\n",
    "\n",
    "def find_To(Q,R):\n",
    "\n",
    "    F = 9.81*Q/(1.1*1000*300)\n",
    "    zhat = 1000/R \n",
    "    b = b_empirical(zhat)*F**(2/3)*R**(-1/3)\n",
    "    Te0 = 290 #K \n",
    "    Tanom = b*Te0/10\n",
    "\n",
    "    return Tanom\n",
    "\n",
    "find_To_vec = np.vectorize(find_To)"
   ]
  },
  {
   "cell_type": "code",
   "execution_count": 9,
   "metadata": {},
   "outputs": [],
   "source": [
    "def To_analytical(l):\n",
    "    Gamma = 6/1000\n",
    "    g = 9.81\n",
    "    cp = 1000\n",
    "    z_t = 15e3 \n",
    "    z0 = 1e3\n",
    "    return (np.exp((z_t-z0)/l) - 1)*(g/cp - Gamma)*(l)"
   ]
  },
  {
   "cell_type": "code",
   "execution_count": 10,
   "metadata": {},
   "outputs": [],
   "source": [
    "Rs = np.logspace(2, 4, 100)\n",
    "Ts_fixed_Q = find_To_vec(5e4, Rs)\n",
    "\n",
    "Qs = np.linspace(1,1.1e5,100)\n",
    "Ts_fixed_R = find_To_vec(Qs, 5e3)\n",
    "\n",
    "To_strat = To_analytical(5*Rs)"
   ]
  },
  {
   "cell_type": "code",
   "execution_count": 46,
   "metadata": {},
   "outputs": [
    {
     "data": {
      "image/png": "[encoded data removed]",
      "text/plain": [
       "<Figure size 648x215.5 with 6 Axes>"
      ]
     },
     "metadata": {},
     "output_type": "display_data"
    }
   ],
   "source": [
    "fig, axis = faceted.faceted(1,2, sharex=False, \n",
    "                            sharey=True, internal_pad=.3, width=9,\n",
    "                           left_pad=.75, bottom_pad=.75, right_pad=1.5)\n",
    "\n",
    "axis[0].plot(Rs/1e3, To_strat, linewidth=1, color='grey')\n",
    "axis[1].plot(Qs/1e3, To_analytical(5*5000)*np.ones(len(Qs)), \n",
    "             linewidth=1, color='grey')\n",
    "\n",
    "axis[0].fill_between(Rs[40:]/1e3, To_strat[40:], 1e3, color='grey', alpha=.2)\n",
    "axis[1].fill_between(Qs/1e3, To_analytical(5*5000)*np.ones(len(Qs)), \n",
    "                     1e3, color='grey', alpha=.2)\n",
    "\n",
    "axis[0].plot(Rs/1e3, Ts_fixed_Q, linewidth=1, color='black', label=\"DNS\")\n",
    "axis[1].plot(Qs/1e3, Ts_fixed_R, linewidth=1, color='black', label=\"DNS\")\n",
    "\n",
    "axis[0].scatter(1, center_To(R_1km_branch[\"128\"].tabs), marker=\"x\", \n",
    "                    color='black', label=\"LES: N = 128\", s=15)\n",
    "axis[0].scatter(7, center_To(R_7km_branch[\"128\"].tabs), marker=\"x\", \n",
    "                    color='black', s=15)\n",
    "\n",
    "i = 0 \n",
    "for key in R_suite:\n",
    "    if i == 0:\n",
    "        axis[0].scatter(float(key), center_To(R_suite[key].tabs), \n",
    "                        color='black', label=\"LES: N = 256\", s=15)\n",
    "    else:\n",
    "        axis[0].scatter(float(key), center_To(R_suite[key].tabs), \n",
    "                        color='black', s=15)\n",
    "    i += 1\n",
    "\n",
    "axis[0].scatter(1, center_To(R_1km_branch[\"512\"].tabs), marker=\"s\",\n",
    "                    color='black', label=\"LES: N = 512\", s = 15)\n",
    "axis[0].scatter(7, center_To(R_7km_branch[\"512\"].tabs), marker=\"s\", \n",
    "                    color='black', s = 15)\n",
    "\n",
    "i = 0 \n",
    "for key in H_suite:\n",
    "    if i == 0:\n",
    "        axis[1].scatter(float(key), center_To(H_suite[key].tabs), \n",
    "                        color='black', s = 15)\n",
    "    else:\n",
    "        axis[1].scatter(float(key), center_To(H_suite[key].tabs), \n",
    "                        color='black', s = 15)\n",
    "    i += 1\n",
    "\n",
    "axis[0].set_xlim([0,10])\n",
    "axis[1].set_xlim([0,110])\n",
    "axis[0].set_ylim([0,100])\n",
    "# axis[0].set_yticks([0,5,10,15,20,25, 30, 35])\n",
    "axis[0].set_xlabel(\"$R $ [km]\")\n",
    "axis[1].set_xlabel(\"$Q$ [kW/m$^2$]\")\n",
    "axis[0].set_ylabel(\"$T'_0$ [K]\")\n",
    "axis[0].legend(loc='center left', bbox_to_anchor=[2.09, .5], frameon=False,\n",
    "              handlelength=.5, handletextpad=.5)\n",
    "#axis[0].legend(frameon=True, loc=\"center left\", fontsize=\"medium\")\n",
    "axis[0].text(.01, .89, \" a) $\\\\mathcal{H} = 50$\\\\text{ kW/m$^2$}\", transform=axis[0].transAxes,\n",
    "            fontsize=\"large\")\n",
    "axis[1].text(.01, .89, \" b) $R = 5 \\\\text{ km}$\", transform=axis[1].transAxes, fontsize=\"large\")\n",
    "axis[0].text(.5, .8, \"Stratospheric LNB\", transform=axis[0].transAxes, fontsize=\"large\")\n",
    "axis[1].text(.5, .8, \"Stratospheric LNB\", horizontalalignment=\"center\",\n",
    "             transform=axis[1].transAxes, fontsize=\"large\")"
   ]
  }
 ],
 "metadata": {
  "kernelspec": {
   "display_name": "Python 3 (ipykernel)",
   "language": "python",
   "name": "python3"
  },
  "language_info": {
   "codemirror_mode": {
    "name": "ipython",
    "version": 3
   },
   "file_extension": ".py",
   "mimetype": "text/x-python",
   "name": "python",
   "nbconvert_exporter": "python",
   "pygments_lexer": "ipython3",
   "version": "3.7.12"
  }
 },
 "nbformat": 4,
 "nbformat_minor": 4
}
